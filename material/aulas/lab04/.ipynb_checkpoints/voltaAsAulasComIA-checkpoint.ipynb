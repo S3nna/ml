{
 "cells": [
  {
   "cell_type": "markdown",
   "metadata": {},
   "source": [
    "## 2. Aprendizagem de máquina\n",
    "\n",
    "### Objetivos\n",
    "\n",
    "  - Retomar alguns conceitos relacionados a ML \n",
    "  - Praticar a utilização da lib Pandas\n",
    "  - Praticar o treinamento de modelos de ML em dataframes"
   ]
  },
  {
   "cell_type": "markdown",
   "metadata": {},
   "source": [
    "## Voltas as Aulas com ML\n",
    "\n",
    "Como de costume, voltamos das férias com a memória resetada (professores e alunos, sem exceção), sabendo disso vamos relembrar alguns conceitos importantes e praticar um pouco antes de trabalhar com novos conceitos..."
   ]
  },
  {
   "cell_type": "markdown",
   "metadata": {},
   "source": [
    "## Trabalhando com dataframes\n",
    "\n",
    "Vamos usar o `PANDAS`\n",
    "\n",
    "Veja mais em: https://pandas.pydata.org/pandas-docs/stable/generated/pandas.DataFrame.html"
   ]
  },
  {
   "cell_type": "markdown",
   "metadata": {},
   "source": [
    "## Etapas:\n",
    "\n",
    "Carregar e visualizar o conteúdo do dataset `.....escolha um dataset....`\n",
    "Passos que seguiremos:\n",
    "\n",
    "1. Carregar o arquivo de dados do dataset em um DataFrame do `pandas`.\n",
    "\n",
    "2. Identificar os atributos do DataFrame\n",
    "\n",
    "3. Acessar os dados do DataFrame"
   ]
  },
  {
   "cell_type": "markdown",
   "metadata": {},
   "source": [
    "### Passo 1: Importar o arquivo de dados\n",
    "\n",
    "Escolha um dataframe e import os dados. Pode ser escolhido qualquer base de dados, como **sklearn** por exemplo.\n"
   ]
  },
  {
   "cell_type": "code",
   "execution_count": 15,
   "metadata": {},
   "outputs": [],
   "source": [
    "%matplotlib inline\n",
    "import numpy as np\n",
    "import matplotlib.pyplot as plt\n",
    "\n",
    "import pandas as pd"
   ]
  },
  {
   "cell_type": "code",
   "execution_count": 16,
   "metadata": {},
   "outputs": [],
   "source": [
    "## CARREGUE O DATASET ESCOLHIDO (utilize quantas celulas quiser para isso...)\n",
    "\n",
    "\n",
    "\n",
    "\n",
    "\n",
    "\n",
    "\n",
    "\n",
    "\n"
   ]
  },
  {
   "cell_type": "markdown",
   "metadata": {},
   "source": [
    "### Passo 2. Identificar os atributos (colunas) do data frame\n",
    "\n",
    "Neste ponto podemos relembrar os métodos utilizados nas ultimas aulas para identificar informações sobre o dataframe, como quantidade de linhas, colunos, se existe dados faltantes, tipo dos dados....\n",
    "\n",
    "Faça um print das 5 primeiras linhas do dataframe para certificar que as informações estão corretas.\n"
   ]
  },
  {
   "cell_type": "code",
   "execution_count": 17,
   "metadata": {},
   "outputs": [],
   "source": [
    "## EXIBA INFORMAÇÕES SOBRE O DATASET ESCOLHIDO (utilize quantas celulas quiser para isso...)\n",
    "\n",
    "\n",
    "\n",
    "\n",
    "\n",
    "\n",
    "\n",
    "\n",
    "\n"
   ]
  },
  {
   "cell_type": "markdown",
   "metadata": {},
   "source": [
    "### Responda:\n",
    "\n",
    "\n",
    "1. Quantos dados existem nesse dataset?\n",
    "\n",
    "R: \n",
    "\n",
    "2. Qual a quantidade de atributos?\n",
    "\n",
    "R: \n",
    "\n",
    "3. Existe valores faltantes?\n",
    "\n",
    "R: \n",
    "\n",
    "4. De que tipo são os dados (dtype) dos atributos?\n",
    "\n",
    "R: \n",
    "\n",
    "5. Existe outliers?\n",
    "\n",
    "R:\n"
   ]
  },
  {
   "cell_type": "markdown",
   "metadata": {},
   "source": [
    "### Exploração gráfica:\n",
    "\n",
    "\n",
    "Faça uma exploração dos dados com base em informações estaticas e gráficas. \n",
    "\n",
    "Como sugestão, faça uso do **matplotlib** ou o **seaborn** para isso."
   ]
  },
  {
   "cell_type": "code",
   "execution_count": 18,
   "metadata": {},
   "outputs": [],
   "source": [
    "## EXIBA OS GRÁFICOS PARA REALIZAR UMA ANÁLISE EXPLORATORIA NO DADOS (utilize quantas celulas quiser para isso...)\n",
    "\n",
    "\n",
    "\n",
    "\n",
    "\n",
    "\n",
    "\n",
    "\n",
    "\n"
   ]
  },
  {
   "cell_type": "markdown",
   "metadata": {},
   "source": [
    "### Passo 3. Acessando dados de um Dataframe\n",
    "\n",
    "Relembre como criar acessar o conteudo de um dataframe acessando atraves de seu indice coluna. \n",
    "\n",
    "Agora que já conheço os seus dados, crie um subset do dataset original apenas com os atributos que jugar importante para a criação do modelo de machine learning."
   ]
  },
  {
   "cell_type": "code",
   "execution_count": 19,
   "metadata": {},
   "outputs": [],
   "source": [
    "## EXIBA INFORMAÇÕES SOBRE O SUBSET RESULTANTE (utilize quantas celulas quiser para isso...)\n",
    "\n",
    "\n",
    "\n",
    "\n",
    "\n",
    "\n",
    "\n",
    "\n"
   ]
  },
  {
   "cell_type": "markdown",
   "metadata": {},
   "source": [
    "### Responda:\n",
    "\n",
    "\n",
    "1. Quantos atributos possui o subset?\n",
    "\n",
    "R: \n",
    "\n",
    "2. Os dados são do tipo continua ou categorica?\n",
    "\n",
    "R: \n",
    "\n",
    "3. É necessário normalizar os dados?\n",
    "\n",
    "R: \n",
    "\n",
    "4. Os dados estão rotulados?\n",
    "\n",
    "R: \n",
    "\n",
    "5. É um problema de Aprendizado supervisionado ou não-supervisionado?\n",
    "\n",
    "R:\n",
    "\n",
    "6. Classificação, regressão, clusterização?\n",
    "\n",
    "R:\n",
    "\n",
    "7. Quais são as variaveis dependentes e independentes?\n",
    "\n",
    "R:\n"
   ]
  },
  {
   "cell_type": "markdown",
   "metadata": {},
   "source": [
    "## Trabalhando com modelos de ML\n",
    "\n",
    "Vamos usar o `sklearn`\n",
    "\n",
    "## Etapas:\n",
    "\n",
    "Passos que seguiremos:\n",
    "\n",
    "1. Dividir os dados em treino e teste.\n",
    "\n",
    "2. Treinar o modelo de ML\n",
    "\n",
    "3. Testar o modelo treinado\n",
    "\n",
    "4. Avaliar os resultados\n"
   ]
  },
  {
   "cell_type": "markdown",
   "metadata": {},
   "source": [
    "### Passo 1. Dividindo os dados de treino e teste\n",
    "\n",
    "Responda por que separamos nosso conjunto de dados em treino e teste.\n",
    "\n",
    "R: "
   ]
  },
  {
   "cell_type": "code",
   "execution_count": 25,
   "metadata": {},
   "outputs": [],
   "source": [
    "from sklearn.model_selection import train_test_split"
   ]
  },
  {
   "cell_type": "code",
   "execution_count": 26,
   "metadata": {},
   "outputs": [],
   "source": [
    "## Faça o split dos dados em 80/20. Seu código aqui....\n",
    "\n",
    "\n"
   ]
  },
  {
   "cell_type": "markdown",
   "metadata": {},
   "source": [
    "### Passo 2. Treinamento do modelo de ML\n",
    "\n",
    "Lembre-se do método `fit()`\n",
    "\n",
    "**1. Qual algoritimo de ML será aplicado? E por que?**\n",
    "\n",
    "R:\n",
    "\n",
    "**2. Qual a métrica de avaliação do modelo de ML será aplicado? E por que?**\n",
    "\n",
    "R:\n",
    "\n"
   ]
  },
  {
   "cell_type": "code",
   "execution_count": 22,
   "metadata": {},
   "outputs": [],
   "source": [
    "## Importa a biblioteca\n",
    "\n",
    "\n"
   ]
  },
  {
   "cell_type": "code",
   "execution_count": 23,
   "metadata": {},
   "outputs": [],
   "source": [
    "## Treina modelo de ML\n",
    "\n",
    "\n",
    "\n",
    "\n"
   ]
  },
  {
   "cell_type": "markdown",
   "metadata": {},
   "source": [
    "### Passo 3. Teste do modelo de ML\n",
    "\n",
    "Lembre-se do método `predict()`"
   ]
  },
  {
   "cell_type": "code",
   "execution_count": 24,
   "metadata": {},
   "outputs": [],
   "source": [
    "## Teste do modelo ML\n",
    "\n",
    "\n"
   ]
  },
  {
   "cell_type": "markdown",
   "metadata": {},
   "source": [
    "### Passo 4. Avaliação de resultado\n",
    "\n",
    "**1. O resultado obtido foi satisfatorio?**\n",
    "\n",
    "R:\n",
    "\n",
    "**2. Houve aprendizado, qual a acuracia obtida?**\n",
    "\n",
    "R:\n",
    "\n",
    "**3. Como melhorar o resultado obtido?**\n",
    "\n",
    "R:\n"
   ]
  },
  {
   "cell_type": "code",
   "execution_count": null,
   "metadata": {},
   "outputs": [],
   "source": []
  },
  {
   "cell_type": "code",
   "execution_count": null,
   "metadata": {},
   "outputs": [],
   "source": []
  }
 ],
 "metadata": {
  "kernelspec": {
   "display_name": "Python 3",
   "language": "python",
   "name": "python3"
  },
  "language_info": {
   "codemirror_mode": {
    "name": "ipython",
    "version": 3
   },
   "file_extension": ".py",
   "mimetype": "text/x-python",
   "name": "python",
   "nbconvert_exporter": "python",
   "pygments_lexer": "ipython3",
   "version": "3.8.5"
  }
 },
 "nbformat": 4,
 "nbformat_minor": 2
}
